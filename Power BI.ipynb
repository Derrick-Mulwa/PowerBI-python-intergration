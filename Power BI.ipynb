{
 "cells": [
  {
   "cell_type": "code",
   "execution_count": 1,
   "id": "38e1539c",
   "metadata": {
    "scrolled": true
   },
   "outputs": [
    {
     "name": "stdout",
     "output_type": "stream",
     "text": [
      "Requirement already satisfied: jupyter in c:\\users\\administrator\\anaconda3\\lib\\site-packages (1.0.0)\n",
      "Requirement already satisfied: ipympl in c:\\users\\administrator\\anaconda3\\lib\\site-packages (0.9.3)\n",
      "Requirement already satisfied: powerbiclient in c:\\users\\administrator\\anaconda3\\lib\\site-packages (3.0.0)\n",
      "Requirement already satisfied: notebook in c:\\users\\administrator\\anaconda3\\lib\\site-packages (from jupyter) (6.4.8)\n",
      "Requirement already satisfied: qtconsole in c:\\users\\administrator\\anaconda3\\lib\\site-packages (from jupyter) (5.3.0)\n",
      "Requirement already satisfied: jupyter-console in c:\\users\\administrator\\anaconda3\\lib\\site-packages (from jupyter) (6.4.0)\n",
      "Requirement already satisfied: nbconvert in c:\\users\\administrator\\appdata\\roaming\\python\\python39\\site-packages (from jupyter) (7.2.10)\n",
      "Requirement already satisfied: ipykernel in c:\\users\\administrator\\anaconda3\\lib\\site-packages (from jupyter) (6.9.1)\n",
      "Requirement already satisfied: ipywidgets in c:\\users\\administrator\\anaconda3\\lib\\site-packages (from jupyter) (7.6.5)\n",
      "Requirement already satisfied: ipython<9 in c:\\users\\administrator\\anaconda3\\lib\\site-packages (from ipympl) (8.2.0)\n",
      "Requirement already satisfied: numpy in c:\\users\\administrator\\anaconda3\\lib\\site-packages (from ipympl) (1.22.4)\n",
      "Requirement already satisfied: ipython-genutils in c:\\users\\administrator\\anaconda3\\lib\\site-packages (from ipympl) (0.2.0)\n",
      "Requirement already satisfied: pillow in c:\\users\\administrator\\anaconda3\\lib\\site-packages (from ipympl) (9.0.1)\n",
      "Requirement already satisfied: traitlets<6 in c:\\users\\administrator\\anaconda3\\lib\\site-packages (from ipympl) (5.1.1)\n",
      "Requirement already satisfied: matplotlib<4,>=3.4.0 in c:\\users\\administrator\\anaconda3\\lib\\site-packages (from ipympl) (3.5.1)"
     ]
    },
    {
     "name": "stderr",
     "output_type": "stream",
     "text": [
      "WARNING: Ignoring invalid distribution -ygments (c:\\users\\administrator\\anaconda3\\lib\\site-packages)\n",
      "WARNING: Ignoring invalid distribution -ygments (c:\\users\\administrator\\anaconda3\\lib\\site-packages)\n"
     ]
    },
    {
     "name": "stdout",
     "output_type": "stream",
     "text": [
      "\n",
      "Requirement already satisfied: jupyter-ui-poll>=0.1.2 in c:\\users\\administrator\\anaconda3\\lib\\site-packages (from powerbiclient) (0.2.2)\n",
      "Requirement already satisfied: msal>=1.8.0 in c:\\users\\administrator\\anaconda3\\lib\\site-packages (from powerbiclient) (1.22.0)\n",
      "Requirement already satisfied: requests>=2.25.1 in c:\\users\\administrator\\anaconda3\\lib\\site-packages (from powerbiclient) (2.27.1)\n",
      "Requirement already satisfied: pandas in c:\\users\\administrator\\anaconda3\\lib\\site-packages (from powerbiclient) (1.4.2)\n",
      "Requirement already satisfied: backcall in c:\\users\\administrator\\anaconda3\\lib\\site-packages (from ipython<9->ipympl) (0.2.0)\n",
      "Requirement already satisfied: decorator in c:\\users\\administrator\\anaconda3\\lib\\site-packages (from ipython<9->ipympl) (5.1.1)\n",
      "Requirement already satisfied: jedi>=0.16 in c:\\users\\administrator\\anaconda3\\lib\\site-packages (from ipython<9->ipympl) (0.17.2)\n",
      "Requirement already satisfied: matplotlib-inline in c:\\users\\administrator\\anaconda3\\lib\\site-packages (from ipython<9->ipympl) (0.1.2)\n",
      "Requirement already satisfied: pickleshare in c:\\users\\administrator\\anaconda3\\lib\\site-packages (from ipython<9->ipympl) (0.7.5)\n",
      "Requirement already satisfied: prompt-toolkit!=3.0.0,!=3.0.1,<3.1.0,>=2.0.0 in c:\\users\\administrator\\anaconda3\\lib\\site-packages (from ipython<9->ipympl) (3.0.20)\n",
      "Requirement already satisfied: pygments>=2.4.0 in c:\\users\\administrator\\appdata\\roaming\\python\\python39\\site-packages (from ipython<9->ipympl) (2.14.0)\n",
      "Requirement already satisfied: setuptools>=18.5 in c:\\users\\administrator\\anaconda3\\lib\\site-packages (from ipython<9->ipympl) (61.2.0)\n",
      "Requirement already satisfied: stack-data in c:\\users\\administrator\\anaconda3\\lib\\site-packages (from ipython<9->ipympl) (0.2.0)\n",
      "Requirement already satisfied: colorama in c:\\users\\administrator\\anaconda3\\lib\\site-packages (from ipython<9->ipympl) (0.4.4)\n",
      "Requirement already satisfied: nbformat>=4.2.0 in c:\\users\\administrator\\anaconda3\\lib\\site-packages (from ipywidgets->jupyter) (5.3.0)\n",
      "Requirement already satisfied: widgetsnbextension~=3.5.0 in c:\\users\\administrator\\anaconda3\\lib\\site-packages (from ipywidgets->jupyter) (3.5.2)\n",
      "Requirement already satisfied: jupyterlab-widgets>=1.0.0 in c:\\users\\administrator\\anaconda3\\lib\\site-packages (from ipywidgets->jupyter) (1.0.0)\n",
      "Requirement already satisfied: debugpy<2.0,>=1.0.0 in c:\\users\\administrator\\anaconda3\\lib\\site-packages (from ipykernel->jupyter) (1.5.1)\n",
      "Requirement already satisfied: jupyter-client<8.0 in c:\\users\\administrator\\anaconda3\\lib\\site-packages (from ipykernel->jupyter) (6.1.12)\n",
      "Requirement already satisfied: tornado<7.0,>=4.2 in c:\\users\\administrator\\anaconda3\\lib\\site-packages (from ipykernel->jupyter) (6.1)\n",
      "Requirement already satisfied: nest-asyncio in c:\\users\\administrator\\anaconda3\\lib\\site-packages (from ipykernel->jupyter) (1.5.5)\n",
      "Requirement already satisfied: cycler>=0.10 in c:\\users\\administrator\\anaconda3\\lib\\site-packages (from matplotlib<4,>=3.4.0->ipympl) (0.11.0)\n",
      "Requirement already satisfied: fonttools>=4.22.0 in c:\\users\\administrator\\anaconda3\\lib\\site-packages (from matplotlib<4,>=3.4.0->ipympl) (4.25.0)\n",
      "Requirement already satisfied: kiwisolver>=1.0.1 in c:\\users\\administrator\\anaconda3\\lib\\site-packages (from matplotlib<4,>=3.4.0->ipympl) (1.3.2)\n",
      "Requirement already satisfied: packaging>=20.0 in c:\\users\\administrator\\anaconda3\\lib\\site-packages (from matplotlib<4,>=3.4.0->ipympl) (21.3)\n",
      "Requirement already satisfied: pyparsing>=2.2.1 in c:\\users\\administrator\\anaconda3\\lib\\site-packages (from matplotlib<4,>=3.4.0->ipympl) (3.0.4)\n",
      "Requirement already satisfied: python-dateutil>=2.7 in c:\\users\\administrator\\anaconda3\\lib\\site-packages (from matplotlib<4,>=3.4.0->ipympl) (2.8.2)\n",
      "Requirement already satisfied: PyJWT[crypto]<3,>=1.0.0 in c:\\users\\administrator\\anaconda3\\lib\\site-packages (from msal>=1.8.0->powerbiclient) (2.1.0)\n",
      "Requirement already satisfied: cryptography<43,>=0.6 in c:\\users\\administrator\\anaconda3\\lib\\site-packages (from msal>=1.8.0->powerbiclient) (3.4.8)\n",
      "Requirement already satisfied: urllib3<1.27,>=1.21.1 in c:\\users\\administrator\\anaconda3\\lib\\site-packages (from requests>=2.25.1->powerbiclient) (1.26.9)\n",
      "Requirement already satisfied: certifi>=2017.4.17 in c:\\users\\administrator\\anaconda3\\lib\\site-packages (from requests>=2.25.1->powerbiclient) (2021.10.8)\n",
      "Requirement already satisfied: charset-normalizer~=2.0.0 in c:\\users\\administrator\\anaconda3\\lib\\site-packages (from requests>=2.25.1->powerbiclient) (2.0.4)\n",
      "Requirement already satisfied: idna<4,>=2.5 in c:\\users\\administrator\\anaconda3\\lib\\site-packages (from requests>=2.25.1->powerbiclient) (3.3)\n",
      "Requirement already satisfied: beautifulsoup4 in c:\\users\\administrator\\anaconda3\\lib\\site-packages (from nbconvert->jupyter) (4.11.1)\n",
      "Requirement already satisfied: bleach in c:\\users\\administrator\\anaconda3\\lib\\site-packages (from nbconvert->jupyter) (4.1.0)\n",
      "Requirement already satisfied: defusedxml in c:\\users\\administrator\\anaconda3\\lib\\site-packages (from nbconvert->jupyter) (0.7.1)\n",
      "Requirement already satisfied: importlib-metadata>=3.6 in c:\\users\\administrator\\anaconda3\\lib\\site-packages (from nbconvert->jupyter) (4.11.3)\n",
      "Requirement already satisfied: jinja2>=3.0 in c:\\users\\administrator\\appdata\\roaming\\python\\python39\\site-packages (from nbconvert->jupyter) (3.1.2)\n",
      "Requirement already satisfied: jupyter-core>=4.7 in c:\\users\\administrator\\anaconda3\\lib\\site-packages (from nbconvert->jupyter) (4.9.2)\n",
      "Requirement already satisfied: jupyterlab-pygments in c:\\users\\administrator\\anaconda3\\lib\\site-packages (from nbconvert->jupyter) (0.1.2)\n",
      "Requirement already satisfied: markupsafe>=2.0 in c:\\users\\administrator\\anaconda3\\lib\\site-packages (from nbconvert->jupyter) (2.0.1)\n",
      "Requirement already satisfied: mistune<3,>=2.0.3 in c:\\users\\administrator\\appdata\\roaming\\python\\python39\\site-packages (from nbconvert->jupyter) (2.0.5)\n",
      "Requirement already satisfied: nbclient>=0.5.0 in c:\\users\\administrator\\anaconda3\\lib\\site-packages (from nbconvert->jupyter) (0.5.13)\n",
      "Requirement already satisfied: pandocfilters>=1.4.1 in c:\\users\\administrator\\anaconda3\\lib\\site-packages (from nbconvert->jupyter) (1.5.0)\n",
      "Requirement already satisfied: tinycss2 in c:\\users\\administrator\\appdata\\roaming\\python\\python39\\site-packages (from nbconvert->jupyter) (1.2.1)\n",
      "Requirement already satisfied: pyzmq>=17 in c:\\users\\administrator\\anaconda3\\lib\\site-packages (from notebook->jupyter) (22.3.0)\n",
      "Requirement already satisfied: argon2-cffi in c:\\users\\administrator\\anaconda3\\lib\\site-packages (from notebook->jupyter) (21.3.0)\n",
      "Requirement already satisfied: Send2Trash>=1.8.0 in c:\\users\\administrator\\anaconda3\\lib\\site-packages (from notebook->jupyter) (1.8.0)\n",
      "Requirement already satisfied: terminado>=0.8.3 in c:\\users\\administrator\\anaconda3\\lib\\site-packages (from notebook->jupyter) (0.13.1)\n",
      "Requirement already satisfied: prometheus-client in c:\\users\\administrator\\anaconda3\\lib\\site-packages (from notebook->jupyter) (0.13.1)\n",
      "Requirement already satisfied: pytz>=2020.1 in c:\\users\\administrator\\anaconda3\\lib\\site-packages (from pandas->powerbiclient) (2021.3)\n",
      "Requirement already satisfied: qtpy>=2.0.1 in c:\\users\\administrator\\anaconda3\\lib\\site-packages (from qtconsole->jupyter) (2.0.1)\n",
      "Requirement already satisfied: cffi>=1.12 in c:\\users\\administrator\\anaconda3\\lib\\site-packages (from cryptography<43,>=0.6->msal>=1.8.0->powerbiclient) (1.15.0)\n",
      "Requirement already satisfied: zipp>=0.5 in c:\\users\\administrator\\anaconda3\\lib\\site-packages (from importlib-metadata>=3.6->nbconvert->jupyter) (3.7.0)\n",
      "Requirement already satisfied: parso<0.8.0,>=0.7.0 in c:\\users\\administrator\\anaconda3\\lib\\site-packages (from jedi>=0.16->ipython<9->ipympl) (0.7.1)\n",
      "Requirement already satisfied: pywin32>=1.0 in c:\\users\\administrator\\anaconda3\\lib\\site-packages (from jupyter-core>=4.7->nbconvert->jupyter) (302)\n",
      "Requirement already satisfied: jsonschema>=2.6 in c:\\users\\administrator\\anaconda3\\lib\\site-packages (from nbformat>=4.2.0->ipywidgets->jupyter) (4.4.0)\n",
      "Requirement already satisfied: fastjsonschema in c:\\users\\administrator\\anaconda3\\lib\\site-packages (from nbformat>=4.2.0->ipywidgets->jupyter) (2.15.1)\n",
      "Requirement already satisfied: wcwidth in c:\\users\\administrator\\anaconda3\\lib\\site-packages (from prompt-toolkit!=3.0.0,!=3.0.1,<3.1.0,>=2.0.0->ipython<9->ipympl) (0.2.5)\n",
      "Requirement already satisfied: six>=1.5 in c:\\users\\administrator\\anaconda3\\lib\\site-packages (from python-dateutil>=2.7->matplotlib<4,>=3.4.0->ipympl) (1.16.0)\n",
      "Requirement already satisfied: pywinpty>=1.1.0 in c:\\users\\administrator\\anaconda3\\lib\\site-packages (from terminado>=0.8.3->notebook->jupyter) (2.0.2)\n",
      "Requirement already satisfied: argon2-cffi-bindings in c:\\users\\administrator\\anaconda3\\lib\\site-packages (from argon2-cffi->notebook->jupyter) (21.2.0)\n",
      "Requirement already satisfied: soupsieve>1.2 in c:\\users\\administrator\\anaconda3\\lib\\site-packages (from beautifulsoup4->nbconvert->jupyter) (2.3.1)\n",
      "Requirement already satisfied: webencodings in c:\\users\\administrator\\anaconda3\\lib\\site-packages (from bleach->nbconvert->jupyter) (0.5.1)\n",
      "Requirement already satisfied: executing in c:\\users\\administrator\\anaconda3\\lib\\site-packages (from stack-data->ipython<9->ipympl) (0.8.3)\n",
      "Requirement already satisfied: asttokens in c:\\users\\administrator\\anaconda3\\lib\\site-packages (from stack-data->ipython<9->ipympl) (2.0.5)\n",
      "Requirement already satisfied: pure-eval in c:\\users\\administrator\\anaconda3\\lib\\site-packages (from stack-data->ipython<9->ipympl) (0.2.2)\n",
      "Requirement already satisfied: pycparser in c:\\users\\administrator\\anaconda3\\lib\\site-packages (from cffi>=1.12->cryptography<43,>=0.6->msal>=1.8.0->powerbiclient) (2.21)\n",
      "Requirement already satisfied: attrs>=17.4.0 in c:\\users\\administrator\\anaconda3\\lib\\site-packages (from jsonschema>=2.6->nbformat>=4.2.0->ipywidgets->jupyter) (21.4.0)\n",
      "Requirement already satisfied: pyrsistent!=0.17.0,!=0.17.1,!=0.17.2,>=0.14.0 in c:\\users\\administrator\\anaconda3\\lib\\site-packages (from jsonschema>=2.6->nbformat>=4.2.0->ipywidgets->jupyter) (0.18.0)\n"
     ]
    }
   ],
   "source": [
    "# Install the powerbiclient Python package that lets you embed Power BI reports in Jupyter notebooks easily\n",
    "\n",
    "!pip install jupyter ipympl powerbiclient"
   ]
  },
  {
   "cell_type": "code",
   "execution_count": 2,
   "id": "52fe9f85",
   "metadata": {},
   "outputs": [],
   "source": [
    "# Import all required modules\n",
    "\n",
    "from powerbiclient import QuickVisualize, get_dataset_config, Report\n",
    "from powerbiclient.authentication import DeviceCodeLoginAuthentication, InteractiveLoginAuthentication\n",
    "import pandas as pd"
   ]
  },
  {
   "cell_type": "code",
   "execution_count": 3,
   "id": "70abafc8",
   "metadata": {},
   "outputs": [],
   "source": [
    "# Read in the csv file\n",
    "df = pd.read_csv('Financial Sample.csv')"
   ]
  },
  {
   "cell_type": "code",
   "execution_count": 4,
   "id": "6e7c747a",
   "metadata": {},
   "outputs": [],
   "source": [
    "# For first time use, authenticate your Power BI account using this method. Copy the code and paste it in the windo that pops up \n",
    "# when you click the link. Proceed to log into your Microsoft account\n",
    "# auth = DeviceCodeLoginAuthentication()"
   ]
  },
  {
   "cell_type": "code",
   "execution_count": 5,
   "id": "8c15092d",
   "metadata": {},
   "outputs": [
    {
     "name": "stdout",
     "output_type": "stream",
     "text": [
      "A local browser window will open for interactive sign in.\n",
      "\n",
      "Interactive authentication successfully completed.\n",
      "You are now logged in.\n",
      "\n",
      "The result should be passed only to trusted code in your notebook.\n"
     ]
    }
   ],
   "source": [
    "# This is an alternative authentication method that is easier. It is sed after the first login into your microoft account and \n",
    "# your login credentials being saved to the browser\n",
    "auth = InteractiveLoginAuthentication()"
   ]
  },
  {
   "cell_type": "code",
   "execution_count": 6,
   "id": "ead92c50",
   "metadata": {},
   "outputs": [],
   "source": [
    "# Create a visualization using the dataframe df\n",
    "\n",
    "visualization = QuickVisualize(get_dataset_config(df), auth)"
   ]
  },
  {
   "cell_type": "code",
   "execution_count": 7,
   "id": "41d19286",
   "metadata": {},
   "outputs": [
    {
     "data": {
      "application/vnd.jupyter.widget-view+json": {
       "model_id": "1b80c26a443d4efa8cf7c9301d2bfeb1",
       "version_major": 2,
       "version_minor": 0
      },
      "text/plain": [
       "QuickVisualize()"
      ]
     },
     "metadata": {},
     "output_type": "display_data"
    }
   ],
   "source": [
    "visualization"
   ]
  }
 ],
 "metadata": {
  "kernelspec": {
   "display_name": "Python 3 (ipykernel)",
   "language": "python",
   "name": "python3"
  },
  "language_info": {
   "codemirror_mode": {
    "name": "ipython",
    "version": 3
   },
   "file_extension": ".py",
   "mimetype": "text/x-python",
   "name": "python",
   "nbconvert_exporter": "python",
   "pygments_lexer": "ipython3",
   "version": "3.9.12"
  }
 },
 "nbformat": 4,
 "nbformat_minor": 5
}
